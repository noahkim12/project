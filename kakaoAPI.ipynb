{
 "cells": [
  {
   "cell_type": "markdown",
   "id": "e1b7157e",
   "metadata": {},
   "source": [
    "<span style=\"font-weight: bold; font-size:25px; color:#2196F3\">[Python] 카카오 api를 사용한 주소/위경도 추출</span>"
   ]
  },
  {
   "cell_type": "markdown",
   "id": "f886cd26",
   "metadata": {},
   "source": [
    "### 카카오 API를 이용해 주소에서 위경도를, 위경도를 통해 주소를 추출해보자.\n",
    "- 카카오 API를 사용한 주소/위경도 추출"
   ]
  },
  {
   "cell_type": "code",
   "execution_count": 1,
   "id": "ff9dfe8d",
   "metadata": {},
   "outputs": [],
   "source": [
    "import json\n",
    "import requests"
   ]
  },
  {
   "cell_type": "markdown",
   "id": "e229cfe5",
   "metadata": {},
   "source": [
    "\n"
   ]
  },
  {
   "cell_type": "markdown",
   "id": "6d96ed58",
   "metadata": {},
   "source": [
    "#### API Key 세팅\n",
    "우선 다음과 같이 카카오에서 발급받은 REST API 키를 다음과 같이 지정해주도록 하자.\n",
    "\n",
    "api_key = \"발급받은 키 입력\""
   ]
  },
  {
   "cell_type": "markdown",
   "id": "bcf815e3",
   "metadata": {},
   "source": [
    "\n"
   ]
  },
  {
   "cell_type": "markdown",
   "id": "a7742c09",
   "metadata": {},
   "source": [
    "#### 지리정보 API를 사용해 주소에서 위경도에서 추출\n",
    "이제 Get()함수를 통해 다음과 같이 api를 호출 해주자. 주소는 남산을 택했으며 남산의 주소를 검색 결과 \"서울 중구 회형동 1가\"로 나오게 되어 이곳의 위경도를 추출하려고 한다. api문서에서는 다음에 위치한다.\n",
    "- 개발가이드 - 주소 검색"
   ]
  },
  {
   "cell_type": "code",
   "execution_count": 4,
   "id": "23dd649d",
   "metadata": {},
   "outputs": [],
   "source": [
    "def addr_to_lat_lon(addr):\n",
    "    url = 'https://dapi.kakao.com/v2/local/search/address.json?query={address}'.format(address=addr)\n",
    "    headers = {\"Authorization\": \"KakaoAK \" + api_key}\n",
    "    result = json.loads(str(requests.get(url, headers=headers).text))\n",
    "    match_first = result['documents'][0]['address']\n",
    "    return float(match_first['x']), float(match_first['y'])"
   ]
  },
  {
   "cell_type": "markdown",
   "id": "f24dd91f",
   "metadata": {},
   "source": [
    "이렇게 만든 addr_to_lat_lon()함수를 통해 남산의 위경도를 추출하면 다음과 같은 결과가 나오게 된다."
   ]
  },
  {
   "cell_type": "code",
   "execution_count": 5,
   "id": "d3907d84",
   "metadata": {},
   "outputs": [
    {
     "data": {
      "text/plain": [
       "(126.981204133005, 37.5555892070291)"
      ]
     },
     "execution_count": 5,
     "metadata": {},
     "output_type": "execute_result"
    }
   ],
   "source": [
    "addr_to_lat_lon('서울 중구 회현동1가')"
   ]
  },
  {
   "cell_type": "markdown",
   "id": "c5499687",
   "metadata": {},
   "source": [
    "\n"
   ]
  },
  {
   "cell_type": "markdown",
   "id": "f938a505",
   "metadata": {},
   "source": [
    "#### 지리정보 API를 사용한 위경도에서 주소 추출 함수\n",
    "이번에는 역으로 위경도에서 주소를 추출해보자. 직전에 사용한 남산의 위경도를 추출 했으니 이를 그대로 사용하도록 한다. api문서에서는 다음에 위치 한다.\n",
    "- 개발 가이드 - 좌표로 주소 변환하기"
   ]
  },
  {
   "cell_type": "code",
   "execution_count": 6,
   "id": "950883b9",
   "metadata": {},
   "outputs": [],
   "source": [
    "def lat_lon_to_addr(lon,lat):\n",
    "    url = 'https://dapi.kakao.com/v2/local/geo/coord2regioncode.json?x={longitude}&y={latitude}'.format(longitude=lon,latitude=lat)\n",
    "    headers = {\"Authorization\": \"KakaoAK \" + api_key}\n",
    "    result = json.loads(str(requests.get(url, headers=headers).text))\n",
    "    match_first = result['documents'][0]['address_name']\n",
    "    return str(match_first)"
   ]
  },
  {
   "cell_type": "code",
   "execution_count": 7,
   "id": "df0673a1",
   "metadata": {},
   "outputs": [
    {
     "data": {
      "text/plain": [
       "'서울특별시 중구 회현동1가'"
      ]
     },
     "execution_count": 7,
     "metadata": {},
     "output_type": "execute_result"
    }
   ],
   "source": [
    "lat_lon_to_addr(126.981204133005, 37.5555892070291)"
   ]
  },
  {
   "cell_type": "markdown",
   "id": "dabaddcb",
   "metadata": {},
   "source": [
    "\n"
   ]
  }
 ],
 "metadata": {
  "kernelspec": {
   "display_name": "Python 3 (ipykernel)",
   "language": "python",
   "name": "python3"
  },
  "language_info": {
   "codemirror_mode": {
    "name": "ipython",
    "version": 3
   },
   "file_extension": ".py",
   "mimetype": "text/x-python",
   "name": "python",
   "nbconvert_exporter": "python",
   "pygments_lexer": "ipython3",
   "version": "3.9.13"
  },
  "toc": {
   "base_numbering": 1,
   "nav_menu": {},
   "number_sections": true,
   "sideBar": true,
   "skip_h1_title": false,
   "title_cell": "Table of Contents",
   "title_sidebar": "Contents",
   "toc_cell": false,
   "toc_position": {},
   "toc_section_display": true,
   "toc_window_display": false
  }
 },
 "nbformat": 4,
 "nbformat_minor": 5
}
